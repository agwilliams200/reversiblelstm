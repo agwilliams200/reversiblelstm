{
  "cells": [
    {
      "cell_type": "code",
      "execution_count": 1,
      "metadata": {
        "colab": {
          "base_uri": "https://localhost:8080/"
        },
        "id": "ZZUpzSqLgbDH",
        "outputId": "bfa7806a-0e42-410a-e6be-00d8d3893824"
      },
      "outputs": [
        {
          "name": "stdout",
          "output_type": "stream",
          "text": [
            "Mounted at /content/drive\n",
            "Folder '/content/drive/MyDrive/Neural Networks final' found!\n"
          ]
        }
      ],
      "source": [
        "from google.colab import drive\n",
        "drive.mount('/content/drive', force_remount=True)\n",
        "import os\n",
        "\n",
        "path = '/content/drive/MyDrive/Neural Networks final'\n",
        "\n",
        "if os.path.exists(path):\n",
        "    print(f\"Folder '{path}' found!\")\n",
        "else:\n",
        "    print(f\"Folder '{path}' not found. Please check the path.\")\n"
      ]
    },
    {
      "cell_type": "code",
      "execution_count": 2,
      "metadata": {
        "id": "3p4mhe92ktfe"
      },
      "outputs": [],
      "source": [
        "import pandas as pd"
      ]
    },
    {
      "cell_type": "code",
      "execution_count": 3,
      "metadata": {
        "id": "R6qzHmhpkENy"
      },
      "outputs": [],
      "source": [
        "dataset = pd.read_csv(f\"{path}/CP_Weather.csv\", encoding=\"latin1\")\n"
      ]
    },
    {
      "cell_type": "markdown",
      "metadata": {
        "id": "4IimSZZAFBdn"
      },
      "source": [
        "Standard LSTM"
      ]
    },
    {
      "cell_type": "markdown",
      "metadata": {
        "id": "6Na00sjNf6Jw"
      },
      "source": [
        "First, we tried a standard LSTM using the PyTorch LSTM Module to get a baseline"
      ]
    },
    {
      "cell_type": "code",
      "execution_count": null,
      "metadata": {
        "colab": {
          "base_uri": "https://localhost:8080/"
        },
        "id": "a4bILwklFA-n",
        "outputId": "69707da0-3476-493f-d392-02976d58cbd6"
      },
      "outputs": [
        {
          "name": "stdout",
          "output_type": "stream",
          "text": [
            "StandardWeatherPredictor(\n",
            "  (lstm): LSTM(5, 16, batch_first=True)\n",
            "  (fc): Linear(in_features=16, out_features=4, bias=True)\n",
            ")\n"
          ]
        }
      ],
      "source": [
        "import torch\n",
        "import torch.nn as nn\n",
        "\n",
        "class StandardWeatherPredictor(nn.Module):\n",
        "    def __init__(self, input_size, hidden_size, output_size):\n",
        "        super(StandardWeatherPredictor, self).__init__()\n",
        "        self.lstm = nn.LSTM(input_size, hidden_size, num_layers=1, batch_first=True)\n",
        "        self.fc = nn.Linear(hidden_size, output_size)\n",
        "\n",
        "    def forward(self, x):\n",
        "        out, _ = self.lstm(x)\n",
        "        last_output = out[:, -1, :]\n",
        "        output = self.fc(last_output)\n",
        "        return output\n",
        "\n",
        "#test usage\n",
        "input_size = 5\n",
        "hidden_size = 16\n",
        "output_size = 4\n",
        "\n",
        "standard_model = StandardWeatherPredictor(input_size, hidden_size, output_size)\n",
        "print(standard_model)\n"
      ]
    },
    {
      "cell_type": "code",
      "execution_count": null,
      "metadata": {
        "colab": {
          "base_uri": "https://localhost:8080/"
        },
        "id": "ip5rzpnlFRVQ",
        "outputId": "8e9e114f-823f-44c1-d572-81b90da9a598"
      },
      "outputs": [
        {
          "name": "stdout",
          "output_type": "stream",
          "text": [
            "Epoch 1/50 -- Train Loss: 0.8967\n",
            "Epoch 2/50 -- Train Loss: 0.4576\n",
            "Epoch 3/50 -- Train Loss: 0.2290\n",
            "Epoch 4/50 -- Train Loss: 0.2097\n",
            "Epoch 5/50 -- Train Loss: 0.2076\n",
            "Epoch 6/50 -- Train Loss: 0.2073\n",
            "Epoch 7/50 -- Train Loss: 0.2068\n",
            "Epoch 8/50 -- Train Loss: 0.2064\n",
            "Epoch 9/50 -- Train Loss: 0.2056\n",
            "Epoch 10/50 -- Train Loss: 0.2057\n",
            "Epoch 11/50 -- Train Loss: 0.2053\n",
            "Epoch 12/50 -- Train Loss: 0.2047\n",
            "Epoch 13/50 -- Train Loss: 0.2055\n",
            "Epoch 14/50 -- Train Loss: 0.2046\n",
            "Epoch 15/50 -- Train Loss: 0.2047\n",
            "Epoch 16/50 -- Train Loss: 0.2045\n",
            "Epoch 17/50 -- Train Loss: 0.2042\n",
            "Epoch 18/50 -- Train Loss: 0.2041\n",
            "Epoch 19/50 -- Train Loss: 0.2043\n",
            "Epoch 20/50 -- Train Loss: 0.2039\n",
            "Epoch 21/50 -- Train Loss: 0.2041\n",
            "Epoch 22/50 -- Train Loss: 0.2039\n",
            "Epoch 23/50 -- Train Loss: 0.2035\n",
            "Epoch 24/50 -- Train Loss: 0.2036\n",
            "Epoch 25/50 -- Train Loss: 0.2033\n",
            "Epoch 26/50 -- Train Loss: 0.2034\n",
            "Epoch 27/50 -- Train Loss: 0.2034\n",
            "Epoch 28/50 -- Train Loss: 0.2029\n",
            "Epoch 29/50 -- Train Loss: 0.2025\n",
            "Epoch 30/50 -- Train Loss: 0.2029\n",
            "Epoch 31/50 -- Train Loss: 0.2028\n",
            "Epoch 32/50 -- Train Loss: 0.2024\n",
            "Epoch 33/50 -- Train Loss: 0.2022\n",
            "Epoch 34/50 -- Train Loss: 0.2023\n",
            "Epoch 35/50 -- Train Loss: 0.2019\n",
            "Epoch 36/50 -- Train Loss: 0.2021\n",
            "Epoch 37/50 -- Train Loss: 0.2018\n",
            "Epoch 38/50 -- Train Loss: 0.2015\n",
            "Epoch 39/50 -- Train Loss: 0.2017\n",
            "Epoch 40/50 -- Train Loss: 0.2015\n",
            "Epoch 41/50 -- Train Loss: 0.2015\n",
            "Epoch 42/50 -- Train Loss: 0.2011\n",
            "Epoch 43/50 -- Train Loss: 0.2011\n",
            "Epoch 44/50 -- Train Loss: 0.2006\n",
            "Epoch 45/50 -- Train Loss: 0.2008\n",
            "Epoch 46/50 -- Train Loss: 0.2008\n",
            "Epoch 47/50 -- Train Loss: 0.2006\n",
            "Epoch 48/50 -- Train Loss: 0.2006\n",
            "Epoch 49/50 -- Train Loss: 0.2002\n",
            "Epoch 50/50 -- Train Loss: 0.2004\n",
            "Test Loss: 0.1996\n"
          ]
        }
      ],
      "source": [
        "import torch\n",
        "import torch.optim as optim\n",
        "import torch.nn as nn\n",
        "from torch.utils.data import DataLoader, TensorDataset\n",
        "from sklearn.model_selection import train_test_split\n",
        "from sklearn.preprocessing import StandardScaler\n",
        "import pandas as pd\n",
        "import numpy as np\n",
        "\n",
        "\n",
        "dataset['STATION'] = dataset['STATION'].astype('category').cat.codes\n",
        "dataset['NAME'] = dataset['NAME'].astype('category').cat.codes\n",
        "\n",
        "features = dataset[['STATION', 'NAME', 'YEAR', 'MONTH', 'DAY']].values\n",
        "targets  = dataset[['TMAX', 'TMIN']].values\n",
        "\n",
        "\n",
        "features_train, features_test, targets_train, targets_test = train_test_split(\n",
        "    features, targets, test_size=0.2, random_state=42\n",
        ")\n",
        "\n",
        "\n",
        "feat_scaler = StandardScaler()\n",
        "target_scaler = StandardScaler()\n",
        "\n",
        "features_train_scaled = feat_scaler.fit_transform(features_train)\n",
        "targets_train_scaled  = target_scaler.fit_transform(targets_train)\n",
        "\n",
        "features_test_scaled = feat_scaler.transform(features_test)\n",
        "targets_test_scaled  = target_scaler.transform(targets_test)\n",
        "\n",
        "\n",
        "def create_sequences(features, targets, seq_len):\n",
        "    X_seq = []\n",
        "    y_seq = []\n",
        "\n",
        "    for i in range(len(features) - seq_len + 1):\n",
        "        X_seq.append(features[i:i+seq_len])\n",
        "        y_seq.append(targets[i+seq_len-1])\n",
        "    return np.array(X_seq), np.array(y_seq)\n",
        "seq_len = 10\n",
        "\n",
        "X_train_seq, y_train_seq = create_sequences(features_train_scaled, targets_train_scaled, seq_len)\n",
        "X_test_seq, y_test_seq   = create_sequences(features_test_scaled, targets_test_scaled, seq_len)\n",
        "\n",
        "\n",
        "X_train_tensor = torch.tensor(X_train_seq, dtype=torch.float32)\n",
        "y_train_tensor = torch.tensor(y_train_seq, dtype=torch.float32)\n",
        "X_test_tensor  = torch.tensor(X_test_seq, dtype=torch.float32)\n",
        "y_test_tensor  = torch.tensor(y_test_seq, dtype=torch.float32)\n",
        "\n",
        "train_dataset = TensorDataset(X_train_tensor, y_train_tensor)\n",
        "test_dataset  = TensorDataset(X_test_tensor, y_test_tensor)\n",
        "train_loader  = DataLoader(train_dataset, batch_size=32, shuffle=True)\n",
        "test_loader   = DataLoader(test_dataset, batch_size=32, shuffle=False)\n",
        "\n",
        "model = StandardWeatherPredictor(input_size=5, hidden_size=16, output_size=2)\n",
        "optimizer = optim.Adam(model.parameters(), lr=0.001)\n",
        "criterion = nn.MSELoss()\n",
        "\n",
        "num_epochs = 50\n",
        "\n",
        "for epoch in range(num_epochs):\n",
        "    model.train()\n",
        "    running_loss = 0.0\n",
        "    for x_batch, y_batch in train_loader:\n",
        "        optimizer.zero_grad()\n",
        "        predictions = model(x_batch)\n",
        "        loss = criterion(predictions, y_batch)\n",
        "        loss.backward()\n",
        "        optimizer.step()\n",
        "        running_loss += loss.item() * x_batch.size(0)\n",
        "    epoch_loss = running_loss / len(train_dataset)\n",
        "    print(f\"Epoch {epoch+1}/{num_epochs} -- Train Loss: {epoch_loss:.4f}\")\n",
        "\n",
        "model.eval()\n",
        "test_loss = 0.0\n",
        "with torch.no_grad():\n",
        "    for x_batch, y_batch in test_loader:\n",
        "        predictions = model(x_batch)\n",
        "        loss = criterion(predictions, y_batch)\n",
        "        test_loss += loss.item() * x_batch.size(0)\n",
        "test_loss /= len(test_dataset)\n",
        "print(f\"Test Loss: {test_loss:.4f}\")\n"
      ]
    },
    {
      "cell_type": "code",
      "execution_count": null,
      "metadata": {
        "colab": {
          "base_uri": "https://localhost:8080/"
        },
        "id": "LTZOms4hGVzQ",
        "outputId": "9f4aa66a-2e93-4d72-a73a-1e35c4abe621"
      },
      "outputs": [
        {
          "name": "stdout",
          "output_type": "stream",
          "text": [
            "Test MSE Loss: 0.1996\n",
            "Target 0 -- Accuracy: 0.8859, F1 Score: 0.8897\n",
            "Target 1 -- Accuracy: 0.9097, F1 Score: 0.9121\n",
            "Sample Predictions: tensor([[-0.5938, -0.6882],\n",
            "        [ 1.1420,  1.1843],\n",
            "        [-1.2040, -1.2744],\n",
            "        [-1.3801, -1.4245],\n",
            "        [ 0.8012,  0.7940]])\n",
            "Ground Truth: tensor([[-0.1491, -0.2002],\n",
            "        [ 0.9251,  1.4352],\n",
            "        [-1.9583, -2.0779],\n",
            "        [-1.6756, -1.7750],\n",
            "        [ 0.8120,  1.0112]])\n"
          ]
        }
      ],
      "source": [
        "import torch\n",
        "from sklearn.metrics import accuracy_score, f1_score\n",
        "\n",
        "\n",
        "y_train = train_dataset.tensors[1]\n",
        "\n",
        "thresholds = torch.median(y_train, dim=0).values\n",
        "\n",
        "model.eval()\n",
        "test_loss = 0.0\n",
        "criterion = torch.nn.MSELoss()\n",
        "\n",
        "all_preds = []\n",
        "all_true = []\n",
        "\n",
        "with torch.no_grad():\n",
        "    for x_batch, y_batch in test_loader:\n",
        "        predictions = model(x_batch)\n",
        "        loss = criterion(predictions, y_batch)\n",
        "        test_loss += loss.item() * x_batch.size(0)\n",
        "        all_preds.append(predictions)\n",
        "        all_true.append(y_batch)\n",
        "\n",
        "average_test_loss = test_loss / len(test_loader.dataset)\n",
        "print(f\"Test MSE Loss: {average_test_loss:.4f}\")\n",
        "\n",
        "all_preds = torch.cat(all_preds, dim=0)\n",
        "all_true = torch.cat(all_true, dim=0)\n",
        "\n",
        "pred_labels = (all_preds > thresholds).int().cpu().numpy()\n",
        "true_labels = (all_true > thresholds).int().cpu().numpy()\n",
        "\n",
        "accuracies = []\n",
        "f1_scores = []\n",
        "\n",
        "for i in range(2):\n",
        "    acc = accuracy_score(true_labels[:, i], pred_labels[:, i])\n",
        "    f1 = f1_score(true_labels[:, i], pred_labels[:, i])\n",
        "    accuracies.append(acc)\n",
        "    f1_scores.append(f1)\n",
        "    print(f\"Target {i} -- Accuracy: {acc:.4f}, F1 Score: {f1:.4f}\")\n",
        "\n",
        "with torch.no_grad():\n",
        "    for x_batch, y_batch in test_loader:\n",
        "        predictions = model(x_batch)\n",
        "        print(\"Sample Predictions:\", predictions[:5])\n",
        "        print(\"Ground Truth:\", y_batch[:5])\n",
        "        break\n"
      ]
    },
    {
      "cell_type": "markdown",
      "metadata": {
        "id": "v_5owE-GgLwl"
      },
      "source": [
        "These were our baseline accuracy + F1 scores for the standard LSTM. Accuracy is computed using a somewhat arbitrary threshold since we're predicting continuous values, so the loss is in some ways more informative."
      ]
    },
    {
      "cell_type": "markdown",
      "metadata": {
        "id": "VeU0fyioHg_L"
      },
      "source": [
        "Reversible LSTM + Reversibility Test"
      ]
    },
    {
      "cell_type": "markdown",
      "metadata": {
        "id": "suNSuFkegkh-"
      },
      "source": [
        "Our basic idea was to split the hidden and cell states into halves, as is often done in reversible architectures, such that one can be computed from the other, allowing us to reverse computations."
      ]
    },
    {
      "cell_type": "code",
      "execution_count": 4,
      "metadata": {
        "id": "MNju8K1qFXrw"
      },
      "outputs": [],
      "source": [
        "import torch\n",
        "import torch.nn as nn\n",
        "import torch.nn.functional as F\n",
        "\n",
        "def leaky_relu_inverse(y, negative_slope=0.01):\n",
        "    return torch.where(y >= 0, y, y / negative_slope)\n",
        "\n",
        "class ReversibleLSTMCell(nn.Module):\n",
        "    def __init__(self, input_size, hidden_size):\n",
        "        super(ReversibleLSTMCell, self).__init__()\n",
        "        assert hidden_size % 2 == 0, \"hidden_size must be even\"\n",
        "        self.hidden_size = hidden_size\n",
        "        half = hidden_size // 2\n",
        "\n",
        "        self.i1 = nn.Linear(input_size + half, half)\n",
        "        self.f1 = nn.Linear(input_size + half, half)\n",
        "        self.o1 = nn.Linear(input_size + half, half)\n",
        "        self.g1 = nn.Linear(input_size + half, half)\n",
        "\n",
        "        self.i2 = nn.Linear(input_size + half, half)\n",
        "        self.f2 = nn.Linear(input_size + half, half)\n",
        "        self.o2 = nn.Linear(input_size + half, half)\n",
        "        self.g2 = nn.Linear(input_size + half, half)\n",
        "\n",
        "    def forward(self, x, h, c):\n",
        "        half = self.hidden_size // 2\n",
        "        h1, h2 = h[:, :half], h[:, half:]\n",
        "        c1, c2 = c[:, :half], c[:, half:]\n",
        "\n",
        "        combined1 = torch.cat([x, h2], dim=1)\n",
        "        i1 = F.leaky_relu(self.i1(combined1))\n",
        "        f1 = F.softplus(self.f1(combined1)) + 0.1\n",
        "        o1 = F.leaky_relu(self.o1(combined1))\n",
        "        g1 = F.leaky_relu(self.g1(combined1))\n",
        "        c1_new = f1 * c1 + i1 * g1\n",
        "        #here is the issue-- multiplication massively amplifies differences...\n",
        "        h1_new = o1 * F.leaky_relu(c1_new)\n",
        "\n",
        "        combined2 = torch.cat([x, h1_new], dim=1)\n",
        "        i2 = F.leaky_relu(self.i2(combined2))\n",
        "        f2 = F.softplus(self.f2(combined2)) + 0.1\n",
        "        o2 = F.leaky_relu(self.o2(combined2))\n",
        "        g2 = F.leaky_relu(self.g2(combined2))\n",
        "        c2_new = f2 * c2 + i2 * g2\n",
        "        h2_new = o2 * F.leaky_relu(c2_new)\n",
        "\n",
        "        new_h = torch.cat([h1_new, h2_new], dim=1)\n",
        "        new_c = torch.cat([c1_new, c2_new], dim=1)\n",
        "        return new_h, new_c\n",
        "\n",
        "\n",
        "    def reverse(self, x, new_h, new_c):\n",
        "        half = self.hidden_size // 2\n",
        "        h1_new, h2_new = new_h[:, :half], new_h[:, half:]\n",
        "        c1_new, c2_new = new_c[:, :half], new_c[:, half:]\n",
        "        combined2 = torch.cat([x, h1_new], dim=1)\n",
        "        i2 = F.leaky_relu(self.i2(combined2))\n",
        "        f2 = F.softplus(self.f2(combined2)) + 0.1\n",
        "        o2 = F.leaky_relu(self.o2(combined2))\n",
        "        g2 = F.leaky_relu(self.g2(combined2))\n",
        "        c2 = (c2_new - i2 * g2) / f2\n",
        "        #any small diffs in cell state are amplified by leaky relu nonlinearity\n",
        "        #inherently this is gonna be worse than recovering the cell state because h_new does not use h in its computation\n",
        "        #this means we have to compute it from c_recovered, whereas c_recovered can be computed from c_new\n",
        "        #so any errors in c_recovered computation massively propagate into h_recovered\n",
        "        h2 = o2 * F.leaky_relu(c2)\n",
        "\n",
        "        combined1 = torch.cat([x, h2], dim=1)\n",
        "        i1 = F.leaky_relu(self.i1(combined1))\n",
        "        f1 = F.softplus(self.f1(combined1)) + 0.1\n",
        "        o1 = F.leaky_relu(self.o1(combined1))\n",
        "        g1 = F.leaky_relu(self.g1(combined1))\n",
        "        c1 = (c1_new - i1 * g1) / f1\n",
        "        h1 = o1 * F.leaky_relu(c1)\n",
        "\n",
        "        h = torch.cat([h1, h2], dim=1)\n",
        "        c = torch.cat([c1, c2], dim=1)\n",
        "        return h, c\n"
      ]
    },
    {
      "cell_type": "markdown",
      "metadata": {
        "id": "tpb08QXQg4gW"
      },
      "source": [
        "Additionally, we replaced all sigmoid + tanh activations with leaky ReLu, since sigmoid and tanh are saturating nonlinearities, meaning that they're inherently less easily reversible than something that's piecewise linear like leaky ReLu. We found that this improved reversibility by a significant amount. Leaky ReLu, as oppposed to regular ReLu, was also crucial here because it helped mitigate entering the ReLu dead zone, which was definitely going to be a problem if we had a ton of regular ReLu activations."
      ]
    },
    {
      "cell_type": "code",
      "execution_count": 6,
      "metadata": {
        "id": "Er4w1-hJLSar"
      },
      "outputs": [],
      "source": [
        "class WeatherPredictor(nn.Module):\n",
        "    def __init__(self, input_size, hidden_size, output_size=2):\n",
        "        super(WeatherPredictor, self).__init__()\n",
        "        self.hidden_size = hidden_size\n",
        "        self.rev_cell = ReversibleLSTMCell(input_size, hidden_size)\n",
        "        self.fc = nn.Linear(hidden_size, output_size)\n",
        "\n",
        "    def forward(self, x):\n",
        "        batch_size, seq_len, _ = x.size()\n",
        "        h = torch.zeros(batch_size, self.hidden_size, device=x.device)\n",
        "        c = torch.zeros(batch_size, self.hidden_size, device=x.device)\n",
        "        for t in range(seq_len):\n",
        "            h, c = self.rev_cell(x[:, t, :], h, c)\n",
        "        out = self.fc(h)\n",
        "        return out\n"
      ]
    },
    {
      "cell_type": "markdown",
      "metadata": {
        "id": "MVYFkBfkheDM"
      },
      "source": [
        "We trained only on the min/max temperature data to limit the scope of the project and allow us to focus more on the actual reversibility of the architecture without having to account for so many varied performance targets. We found that sequence length for the chunks that we split the dataset into had little effect, so we just left it at 10. Obviously, we needed sequential data chunks here in order to harness the memory component of an LSTM."
      ]
    },
    {
      "cell_type": "code",
      "execution_count": 7,
      "metadata": {
        "colab": {
          "base_uri": "https://localhost:8080/"
        },
        "id": "iy0OqsroG-cS",
        "outputId": "ceb610d0-cdb1-468c-b0a9-52baf993262e"
      },
      "outputs": [
        {
          "name": "stdout",
          "output_type": "stream",
          "text": [
            "Epoch 1/50 -- Train Loss: 0.8843\n",
            "Epoch 2/50 -- Train Loss: 0.6029\n",
            "Epoch 3/50 -- Train Loss: 0.5271\n",
            "Epoch 4/50 -- Train Loss: 0.4070\n",
            "Epoch 5/50 -- Train Loss: 0.3190\n",
            "Epoch 6/50 -- Train Loss: 0.2857\n",
            "Epoch 7/50 -- Train Loss: 0.2691\n",
            "Epoch 8/50 -- Train Loss: 0.2566\n",
            "Epoch 9/50 -- Train Loss: 0.2470\n",
            "Epoch 10/50 -- Train Loss: 0.2395\n",
            "Epoch 11/50 -- Train Loss: 0.2333\n",
            "Epoch 12/50 -- Train Loss: 0.2301\n",
            "Epoch 13/50 -- Train Loss: 0.2274\n",
            "Epoch 14/50 -- Train Loss: 0.2247\n",
            "Epoch 15/50 -- Train Loss: 0.2229\n",
            "Epoch 16/50 -- Train Loss: 0.2219\n",
            "Epoch 17/50 -- Train Loss: 0.2203\n",
            "Epoch 18/50 -- Train Loss: 0.2190\n",
            "Epoch 19/50 -- Train Loss: 0.2179\n",
            "Epoch 20/50 -- Train Loss: 0.2168\n",
            "Epoch 21/50 -- Train Loss: 0.2166\n",
            "Epoch 22/50 -- Train Loss: 0.2154\n",
            "Epoch 23/50 -- Train Loss: 0.2153\n",
            "Epoch 24/50 -- Train Loss: 0.2141\n",
            "Epoch 25/50 -- Train Loss: 0.2143\n",
            "Epoch 26/50 -- Train Loss: 0.2140\n",
            "Epoch 27/50 -- Train Loss: 0.2126\n",
            "Epoch 28/50 -- Train Loss: 0.2114\n",
            "Epoch 29/50 -- Train Loss: 0.2116\n",
            "Epoch 30/50 -- Train Loss: 0.2106\n",
            "Epoch 31/50 -- Train Loss: 0.2107\n",
            "Epoch 32/50 -- Train Loss: 0.2093\n",
            "Epoch 33/50 -- Train Loss: 0.2098\n",
            "Epoch 34/50 -- Train Loss: 0.2088\n",
            "Epoch 35/50 -- Train Loss: 0.2086\n",
            "Epoch 36/50 -- Train Loss: 0.2079\n",
            "Epoch 37/50 -- Train Loss: 0.2073\n",
            "Epoch 38/50 -- Train Loss: 0.2066\n",
            "Epoch 39/50 -- Train Loss: 0.2056\n",
            "Epoch 40/50 -- Train Loss: 0.2056\n",
            "Epoch 41/50 -- Train Loss: 0.2051\n",
            "Epoch 42/50 -- Train Loss: 0.2044\n",
            "Epoch 43/50 -- Train Loss: 0.2040\n",
            "Epoch 44/50 -- Train Loss: 0.2038\n",
            "Epoch 45/50 -- Train Loss: 0.2032\n",
            "Epoch 46/50 -- Train Loss: 0.2030\n",
            "Epoch 47/50 -- Train Loss: 0.2024\n",
            "Epoch 48/50 -- Train Loss: 0.2023\n",
            "Epoch 49/50 -- Train Loss: 0.2014\n",
            "Epoch 50/50 -- Train Loss: 0.2026\n",
            "Test Loss: 0.2073\n"
          ]
        }
      ],
      "source": [
        "import torch\n",
        "import torch.optim as optim\n",
        "import torch.nn as nn\n",
        "from torch.utils.data import DataLoader, TensorDataset\n",
        "from sklearn.model_selection import train_test_split\n",
        "from sklearn.preprocessing import StandardScaler\n",
        "import pandas as pd\n",
        "import numpy as np\n",
        "\n",
        "dataset['STATION'] = dataset['STATION'].astype('category').cat.codes\n",
        "dataset['NAME'] = dataset['NAME'].astype('category').cat.codes\n",
        "\n",
        "features = dataset[['STATION', 'NAME', 'YEAR', 'MONTH', 'DAY']].values\n",
        "targets  = dataset[['TMAX', 'TMIN']].values\n",
        "\n",
        "features_train, features_test, targets_train, targets_test = train_test_split(\n",
        "    features, targets, test_size=0.2, random_state=42\n",
        ")\n",
        "\n",
        "feat_scaler = StandardScaler()\n",
        "target_scaler = StandardScaler()\n",
        "\n",
        "features_train_scaled = feat_scaler.fit_transform(features_train)\n",
        "targets_train_scaled  = target_scaler.fit_transform(targets_train)\n",
        "\n",
        "features_test_scaled = feat_scaler.transform(features_test)\n",
        "targets_test_scaled  = target_scaler.transform(targets_test)\n",
        "\n",
        "def create_sequences(features, targets, seq_len):\n",
        "    X_seq = []\n",
        "    y_seq = []\n",
        "    for i in range(len(features) - seq_len + 1):\n",
        "        X_seq.append(features[i:i+seq_len])\n",
        "        y_seq.append(targets[i+seq_len-1])\n",
        "    return np.array(X_seq), np.array(y_seq)\n",
        "\n",
        "seq_len = 10\n",
        "\n",
        "X_train_seq, y_train_seq = create_sequences(features_train_scaled, targets_train_scaled, seq_len)\n",
        "X_test_seq, y_test_seq   = create_sequences(features_test_scaled, targets_test_scaled, seq_len)\n",
        "\n",
        "\n",
        "X_train_tensor = torch.tensor(X_train_seq, dtype=torch.float32)\n",
        "y_train_tensor = torch.tensor(y_train_seq, dtype=torch.float32)\n",
        "X_test_tensor  = torch.tensor(X_test_seq, dtype=torch.float32)\n",
        "y_test_tensor  = torch.tensor(y_test_seq, dtype=torch.float32)\n",
        "\n",
        "train_dataset = TensorDataset(X_train_tensor, y_train_tensor)\n",
        "test_dataset  = TensorDataset(X_test_tensor, y_test_tensor)\n",
        "train_loader  = DataLoader(train_dataset, batch_size=32, shuffle=True)\n",
        "test_loader   = DataLoader(test_dataset, batch_size=32, shuffle=False)\n",
        "\n",
        "\n",
        "model = WeatherPredictor(input_size=5, hidden_size=16, output_size=2)\n",
        "optimizer = optim.Adam(model.parameters(), lr=0.001)\n",
        "criterion = nn.MSELoss()\n",
        "\n",
        "\n",
        "num_epochs = 50\n",
        "\n",
        "for epoch in range(num_epochs):\n",
        "    model.train()\n",
        "    running_loss = 0.0\n",
        "    for x_batch, y_batch in train_loader:\n",
        "        optimizer.zero_grad()\n",
        "        predictions = model(x_batch)\n",
        "        loss = criterion(predictions, y_batch)\n",
        "        loss.backward()\n",
        "        optimizer.step()\n",
        "        running_loss += loss.item() * x_batch.size(0)\n",
        "    epoch_loss = running_loss / len(train_dataset)\n",
        "    print(f\"Epoch {epoch+1}/{num_epochs} -- Train Loss: {epoch_loss:.4f}\")\n",
        "\n",
        "model.eval()\n",
        "test_loss = 0.0\n",
        "with torch.no_grad():\n",
        "    for x_batch, y_batch in test_loader:\n",
        "        predictions = model(x_batch)\n",
        "        loss = criterion(predictions, y_batch)\n",
        "        test_loss += loss.item() * x_batch.size(0)\n",
        "test_loss /= len(test_dataset)\n",
        "print(f\"Test Loss: {test_loss:.4f}\")"
      ]
    },
    {
      "cell_type": "code",
      "execution_count": 8,
      "metadata": {
        "colab": {
          "base_uri": "https://localhost:8080/"
        },
        "id": "788SnIxLHKM2",
        "outputId": "39c11871-380a-4c9b-c245-5c35afe34501"
      },
      "outputs": [
        {
          "name": "stdout",
          "output_type": "stream",
          "text": [
            "Test MSE Loss: 0.2073\n",
            "Target 0 -- Accuracy: 0.8908, F1 Score: 0.8925\n",
            "Target 1 -- Accuracy: 0.9088, F1 Score: 0.9112\n",
            "Sample Predictions: tensor([[-0.7174, -0.8352],\n",
            "        [ 1.2115,  1.2434],\n",
            "        [-1.2850, -1.3036],\n",
            "        [-1.3602, -1.4438],\n",
            "        [ 0.8224,  0.8507]])\n",
            "Ground Truth: tensor([[-0.1491, -0.2002],\n",
            "        [ 0.9251,  1.4352],\n",
            "        [-1.9583, -2.0779],\n",
            "        [-1.6756, -1.7750],\n",
            "        [ 0.8120,  1.0112]])\n"
          ]
        }
      ],
      "source": [
        "import torch\n",
        "from sklearn.metrics import accuracy_score, f1_score\n",
        "\n",
        "y_train = train_dataset.tensors[1]\n",
        "\n",
        "thresholds = torch.median(y_train, dim=0).values\n",
        "\n",
        "model.eval()\n",
        "test_loss = 0.0\n",
        "criterion = torch.nn.MSELoss()\n",
        "\n",
        "all_preds = []\n",
        "all_true = []\n",
        "\n",
        "with torch.no_grad():\n",
        "    for x_batch, y_batch in test_loader:\n",
        "        predictions = model(x_batch)\n",
        "        loss = criterion(predictions, y_batch)\n",
        "        test_loss += loss.item() * x_batch.size(0)\n",
        "        all_preds.append(predictions)\n",
        "        all_true.append(y_batch)\n",
        "\n",
        "average_test_loss = test_loss / len(test_loader.dataset)\n",
        "print(f\"Test MSE Loss: {average_test_loss:.4f}\")\n",
        "\n",
        "all_preds = torch.cat(all_preds, dim=0)\n",
        "all_true = torch.cat(all_true, dim=0)\n",
        "\n",
        "pred_labels = (all_preds > thresholds).int().cpu().numpy()\n",
        "true_labels = (all_true > thresholds).int().cpu().numpy()\n",
        "\n",
        "accuracies = []\n",
        "f1_scores = []\n",
        "\n",
        "for i in range(2):\n",
        "    acc = accuracy_score(true_labels[:, i], pred_labels[:, i])\n",
        "    f1 = f1_score(true_labels[:, i], pred_labels[:, i])\n",
        "    accuracies.append(acc)\n",
        "    f1_scores.append(f1)\n",
        "    print(f\"Target {i} -- Accuracy: {acc:.4f}, F1 Score: {f1:.4f}\")\n",
        "with torch.no_grad():\n",
        "    for x_batch, y_batch in test_loader:\n",
        "        predictions = model(x_batch)\n",
        "        print(\"Sample Predictions:\", predictions[:5])\n",
        "        print(\"Ground Truth:\", y_batch[:5])\n",
        "        break"
      ]
    },
    {
      "cell_type": "markdown",
      "metadata": {
        "id": "bCjy4K3riKni"
      },
      "source": [
        "Awesome! We found that our reversible cell maintained similar accuracy scores to the standard LSTM. Now to test for actual reversibility..."
      ]
    },
    {
      "cell_type": "markdown",
      "metadata": {
        "id": "IS4QDhGTfv_P"
      },
      "source": [
        "Initial Reversibility Test of Cell and Hidden States Over a Single Timestep"
      ]
    },
    {
      "cell_type": "markdown",
      "metadata": {
        "id": "53TxVhxfiVVt"
      },
      "source": [
        "Here, we're plotting a histogram of cosine similarities between actual previous hidden states and recovered ones, as well as cell states. We also compute the norm of the difference over each tensor, to give us an idea of the order of magnitude error that our approximation was introducing."
      ]
    },
    {
      "cell_type": "code",
      "execution_count": 9,
      "metadata": {
        "colab": {
          "base_uri": "https://localhost:8080/",
          "height": 945
        },
        "id": "9nDmJwNpHfmc",
        "outputId": "08fee9cd-ecc6-4a9e-a1ad-4b1697a74f47"
      },
      "outputs": [
        {
          "data": {
            "image/png": "[encoded data removed]",
            "text/plain": [
              "<Figure size 640x480 with 1 Axes>"
            ]
          },
          "metadata": {},
          "output_type": "display_data"
        },
        {
          "data": {
            "image/png": "[encoded data removed]",
            "text/plain": [
              "<Figure size 640x480 with 1 Axes>"
            ]
          },
          "metadata": {},
          "output_type": "display_data"
        },
        {
          "name": "stdout",
          "output_type": "stream",
          "text": [
            "6.87% of the time... it works 100% of the time...\n"
          ]
        }
      ],
      "source": [
        "import torch\n",
        "import torch.nn.functional as F\n",
        "import matplotlib.pyplot as plt\n",
        "import numpy as np\n",
        "\n",
        "sims = []\n",
        "sims_cell = []\n",
        "\n",
        "count = 0\n",
        "for i in range(10000):\n",
        "  input_size = 5\n",
        "  hidden_size = 16\n",
        "  batch_size = 4\n",
        "  timesteps = 5\n",
        "\n",
        "  rev_cell = ReversibleLSTMCell(input_size, hidden_size)\n",
        "\n",
        "  x_seq = torch.randn(timesteps, batch_size, input_size)\n",
        "  h0 = torch.randn(batch_size, hidden_size)\n",
        "  c0 = torch.randn(batch_size, hidden_size)\n",
        "\n",
        "\n",
        "  #need to do multiple forward passes bc h0 is not computed by the network and thus not recoverable\n",
        "  forward_states = [(h0, c0)]\n",
        "  h, c = h0, c0\n",
        "  for t in range(timesteps):\n",
        "      h, c = rev_cell(x_seq[t], h, c)\n",
        "      forward_states.append((h, c))\n",
        "\n",
        "\n",
        "  h_last, c_last = forward_states[-1]\n",
        "  x_last = x_seq[timesteps-1]\n",
        "\n",
        "  recovered_h, recovered_c = rev_cell.reverse(x_last, h_last, c_last)\n",
        "\n",
        "  orig_h, orig_c = forward_states[-2]\n",
        "\n",
        "  h_diff = torch.norm(orig_h - recovered_h)\n",
        "  c_diff = torch.norm(orig_c - recovered_c)\n",
        "  cos_sim_h = F.cosine_similarity(orig_h.flatten().unsqueeze(0), recovered_h.flatten().unsqueeze(0))\n",
        "  cos_sim_c = F.cosine_similarity(orig_c.flatten().unsqueeze(0), recovered_c.flatten().unsqueeze(0))\n",
        "  sims.append(cos_sim_h.item())\n",
        "  sims_cell.append(cos_sim_c.item())\n",
        "  if cos_sim_h.item() > 0.8:\n",
        "    count += 1\n",
        "  # print(orig_h.tolist())\n",
        "  # print(recovered_h.tolist())\n",
        "  # print(f\"Difference in hidden state: {h_diff.item():.6f}\")\n",
        "  # print(f\"Difference in cell state: {c_diff.item():.6f}\")\n",
        "  # print(f\"Cosine similarity of hidden: {cos_sim_h.item()}\")\n",
        "  # print(f\"Cosine similarity of cell: {cos_sim_c.item()}\")\n",
        "\n",
        "plt.hist(np.array(sims), density=False, bins=30)\n",
        "plt.xlabel('Counts')\n",
        "plt.ylabel('Cosine Similarity')\n",
        "plt.title('Hidden State Similarity Histogram')\n",
        "plt.show()\n",
        "\n",
        "plt.hist(np.array(sims_cell), density=False, bins=30)\n",
        "plt.xlabel('Counts')\n",
        "plt.ylabel('Cosine Similarity')\n",
        "plt.title('Cell State Similarity Histogram')\n",
        "plt.show()\n",
        "print(f\"{count/10000 * 100}% of the time... it works 100% of the time...\")"
      ]
    },
    {
      "cell_type": "markdown",
      "metadata": {
        "id": "1QgO_zQQip6H"
      },
      "source": [
        "In attempting to improve reversibility, we narrowed it down to an issue with the line where we compute the hidden state, since the cell state seemed to be recovered just fine. This left us with two options for potential issues: the leaky ReLu activation on cell state, and the output gate recoverability. Removing the leaky ReLu activation on the cell state and making it linear instead (ie, h = o * c) didn't seem to do anything, so we tried to see if our output gates were being effectively recovered."
      ]
    },
    {
      "cell_type": "code",
      "execution_count": null,
      "metadata": {
        "colab": {
          "base_uri": "https://localhost:8080/"
        },
        "id": "bjyyn2w1gQfy",
        "outputId": "19eb6666-4aef-4c0a-b0ea-c7c1e4b4b900"
      },
      "outputs": [
        {
          "name": "stdout",
          "output_type": "stream",
          "text": [
            "Cosine similarity for output gate o1: 0.9996269941329956\n",
            "Cosine similarity for output gate o2: 0.9992310404777527\n"
          ]
        }
      ],
      "source": [
        "import torch\n",
        "import torch.nn.functional as F\n",
        "\n",
        "\n",
        "input_size = 5\n",
        "hidden_size = 16\n",
        "batch_size = 4\n",
        "half = hidden_size // 2\n",
        "rev_cell = ReversibleLSTMCell(input_size, hidden_size)\n",
        "\n",
        "#burn/random init\n",
        "x = torch.randn(batch_size, input_size)\n",
        "h_base = torch.randn(batch_size, hidden_size)\n",
        "c_base = torch.randn(batch_size, hidden_size)\n",
        "new_h, new_c = rev_cell(x, h_base, c_base)\n",
        "\n",
        "#actual\n",
        "x0 = torch.randn(batch_size, input_size)\n",
        "h0 = new_h\n",
        "c0 = new_c\n",
        "new_h, new_c = rev_cell(x, h0, c0)\n",
        "\n",
        "recovered_h, recovered_c = rev_cell.reverse(x, new_h, new_c)\n",
        "\n",
        "h2_fwd = new_h[:, half:]\n",
        "combined1_fwd = torch.cat([x, h2_fwd], dim=1)\n",
        "o1_fwd = F.leaky_relu(rev_cell.o1(combined1_fwd))\n",
        "\n",
        "h1_fwd = new_h[:, :half]\n",
        "combined2_fwd = torch.cat([x, h1_fwd], dim=1)\n",
        "o2_fwd = F.leaky_relu(rev_cell.o2(combined2_fwd))\n",
        "\n",
        "h2_rev = recovered_h[:, half:]\n",
        "combined1_rev = torch.cat([x, h2_rev], dim=1)\n",
        "o1_rev = F.leaky_relu(rev_cell.o1(combined1_rev))\n",
        "\n",
        "h1_rev = recovered_h[:, :half]\n",
        "combined2_rev = torch.cat([x, h1_rev], dim=1)\n",
        "o2_rev = F.leaky_relu(rev_cell.o2(combined2_rev))\n",
        "\n",
        "cos_sim_o1 = F.cosine_similarity(o1_fwd.flatten().unsqueeze(0), o1_rev.flatten().unsqueeze(0))\n",
        "cos_sim_o2 = F.cosine_similarity(o2_fwd.flatten().unsqueeze(0), o2_rev.flatten().unsqueeze(0))\n",
        "\n",
        "print(\"Cosine similarity for output gate o1:\", cos_sim_o1.item())\n",
        "print(\"Cosine similarity for output gate o2:\", cos_sim_o2.item())\n"
      ]
    },
    {
      "cell_type": "markdown",
      "metadata": {
        "id": "kUIAYGP9j1it"
      },
      "source": [
        "As you can see from the above, the output gates were recovered effectively. This left the only source of error as the actual multiplication operation between the activated cell state and the output gate. For the sake of ablation testing, we tried replacing this with an additive operation (ie, h = o + c), and this did indeed improve reversibility, generating < 0.9 cosine similarity scores between actual and recovered hidden states about 90% of the time. However, this gets away from the inherent dynamics of an LSTM, in that the purpose of the Hadamard product operation is to act as an actual gate, causing large effects on the hidden state from the cell state. Adding the two negates the purpose of this, as it only modifies the hidden state by a comparitively small amount wrt the cell state. Thus, we decided to keep the architecture as is, maintaining the characteristics of an LSTM but with only very roughly approximate reversibility."
      ]
    },
    {
      "cell_type": "markdown",
      "metadata": {
        "id": "YOFTweI_H-du"
      },
      "source": [
        "Max Sequence Length Reversibility Test"
      ]
    },
    {
      "cell_type": "markdown",
      "metadata": {
        "id": "dYlSHKxjlG8C"
      },
      "source": [
        "Now, we wanted to see how many timesteps we could reverse over."
      ]
    },
    {
      "cell_type": "code",
      "execution_count": null,
      "metadata": {
        "colab": {
          "base_uri": "https://localhost:8080/"
        },
        "id": "fZfmsLkGH7Os",
        "outputId": "044f2f62-6699-48cf-e198-9536dcdd220a"
      },
      "outputs": [
        {
          "name": "stdout",
          "output_type": "stream",
          "text": [
            "Testing approximate reversibility over different sequence lengths:\n",
            "Sequence Length:  1  -  Hidden Diff: 1.200497, Cell Diff: 0.158134\n",
            "Cosine similarities for length  1: Hidden: tensor([0.3423, 0.9188, 0.9455, 0.9728]), Cell: tensor([0.9995, 0.9999, 1.0000, 1.0000])\n",
            "Sequence Length:  2  -  Hidden Diff: 1.510800, Cell Diff: 0.678211\n",
            "Cosine similarities for length  2: Hidden: tensor([0.7313, 0.7748, 0.7284, 0.5034]), Cell: tensor([0.9832, 0.9998, 0.9998, 0.9988])\n",
            "Sequence Length:  5  -  Hidden Diff: 0.709078, Cell Diff: 0.340351\n",
            "Cosine similarities for length  5: Hidden: tensor([ 0.1931,  0.8171, -0.3100,  0.7483]), Cell: tensor([0.9999, 0.9985, 0.9947, 0.9997])\n",
            "Sequence Length: 10  -  Hidden Diff: 1.423560, Cell Diff: 2.077844\n",
            "Cosine similarities for length 10: Hidden: tensor([ 0.9263,  0.5548,  0.7855, -0.0170]), Cell: tensor([0.9976, 0.9683, 0.9171, 0.9492])\n",
            "Sequence Length: 20  -  Hidden Diff: 9.677454, Cell Diff: 57.163315\n",
            "Cosine similarities for length 20: Hidden: tensor([ 0.2348,  0.0262,  0.4866, -0.0808]), Cell: tensor([0.7368, 0.3658, 0.5444, 0.2530])\n",
            "Sequence Length: 50  -  Hidden Diff: nan, Cell Diff: nan\n",
            "Cosine similarities for length 50: Hidden: tensor([nan, nan, nan, nan]), Cell: tensor([nan, nan, nan, nan])\n"
          ]
        },
        {
          "name": "stderr",
          "output_type": "stream",
          "text": [
            "<ipython-input-161-fed916532d91>:37: UserWarning: To copy construct from a tensor, it is recommended to use sourceTensor.clone().detach() or sourceTensor.clone().detach().requires_grad_(True), rather than torch.tensor(sourceTensor).\n",
            "  h_sim = F.cosine_similarity(torch.tensor(forward_states[0][0]), torch.tensor(recovered_states[0][0]))\n",
            "<ipython-input-161-fed916532d91>:38: UserWarning: To copy construct from a tensor, it is recommended to use sourceTensor.clone().detach() or sourceTensor.clone().detach().requires_grad_(True), rather than torch.tensor(sourceTensor).\n",
            "  c_sim = F.cosine_similarity(torch.tensor(forward_states[0][1]), torch.tensor(recovered_states[0][1]))\n"
          ]
        }
      ],
      "source": [
        "import torch\n",
        "import torch.nn as nn\n",
        "import torch.nn.functional as F\n",
        "import numpy as np\n",
        "\n",
        "def test_reversibility_for_seq_length(seq_len, input_size, hidden_size, batch_size=4, burn_in_steps=1):\n",
        "    rev_cell = ReversibleLSTMCell(input_size, hidden_size)\n",
        "    h0 = torch.randn(batch_size, hidden_size)\n",
        "    c0 = torch.randn(batch_size, hidden_size)\n",
        "\n",
        "    #need to \"burn\" a forward pass so what we're attempting to recover was something actually generated by the network and not just a bunch of random numbers\n",
        "    x_burn = torch.randn(batch_size, input_size)\n",
        "    h_burn, c_burn = rev_cell(x_burn, h0, c0)\n",
        "\n",
        "    x_seq = torch.randn(seq_len, batch_size, input_size)\n",
        "\n",
        "    forward_states = [(h_burn, c_burn)]\n",
        "    h, c = h_burn, c_burn\n",
        "    for t in range(seq_len):\n",
        "        h, c = rev_cell(x_seq[t], h, c)\n",
        "        forward_states.append((h, c))\n",
        "\n",
        "    recovered_states = [None] * (seq_len + 1)\n",
        "    recovered_states[seq_len] = forward_states[seq_len]\n",
        "    for t in range(seq_len, 0, -1):\n",
        "        h_rec, c_rec = rev_cell.reverse(x_seq[t-1], recovered_states[t][0], recovered_states[t][1])\n",
        "        recovered_states[t-1] = (h_rec, c_rec)\n",
        "\n",
        "    h_diff = torch.norm(forward_states[0][0] - recovered_states[0][0])\n",
        "    c_diff = torch.norm(forward_states[0][1] - recovered_states[0][1])\n",
        "    h_sim = F.cosine_similarity(torch.tensor(forward_states[0][0]), torch.tensor(recovered_states[0][0]))\n",
        "    c_sim = F.cosine_similarity(torch.tensor(forward_states[0][1]), torch.tensor(recovered_states[0][1]))\n",
        "\n",
        "    return h_diff.item(), c_diff.item(), h_sim, c_sim\n",
        "\n",
        "input_size = 5\n",
        "hidden_size = 16\n",
        "batch_size = 4\n",
        "\n",
        "seq_lengths = [1, 2, 5, 10, 20, 50]\n",
        "results = {}\n",
        "\n",
        "print(\"Testing approximate reversibility over different sequence lengths:\")\n",
        "for seq_len in seq_lengths:\n",
        "    h_diff, c_diff, h_sim, c_sim = test_reversibility_for_seq_length(seq_len, input_size, hidden_size, batch_size)\n",
        "    results[seq_len] = (h_diff, c_diff)\n",
        "    print(f\"Sequence Length: {seq_len:2d}  -  Hidden Diff: {h_diff:.6f}, Cell Diff: {c_diff:.6f}\")\n",
        "    print(f\"Cosine similarities for length {seq_len:2d}: Hidden: {h_sim}, Cell: {c_sim}\")\n"
      ]
    },
    {
      "cell_type": "markdown",
      "metadata": {
        "id": "N9kw8V-zlMVn"
      },
      "source": [
        "As you can see, things get pretty dicey around 20 or so. It seems to do a\n",
        "\n",
        "decent enough job of reversibly computing hidden states over about 10 timesteps."
      ]
    }
  ],
  "metadata": {
    "accelerator": "GPU",
    "colab": {
      "gpuType": "T4",
      "provenance": []
    },
    "kernelspec": {
      "display_name": "Python 3",
      "name": "python3"
    },
    "language_info": {
      "name": "python"
    }
  },
  "nbformat": 4,
  "nbformat_minor": 0
}
